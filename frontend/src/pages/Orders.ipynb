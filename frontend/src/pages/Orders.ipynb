{
 "cells": [
  {
   "metadata": {},
   "cell_type": "markdown",
   "source": [
    "# Orders Analysis\n",
    "\n",
    "This notebook analyzes order data from our e-commerce platform. We'll explore order trends, customer behavior, and product"
   ],
   "id": "f41ed8d02fee2d44"
  },
  {
   "metadata": {},
   "cell_type": "code",
   "outputs": [],
   "execution_count": null,
   "source": [
    "# Import necessary libraries\n",
    "import pandas as pd\n",
    "import numpy as np\n",
    "import matplotlib.pyplot as plt\n",
    "import seaborn as sns\n",
    "from datetime import datetime\n",
    "\n",
    "# Set visualization style\n",
    "plt.style.use('ggplot')\n",
    "sns.set_palette('Set2')\n",
    "\n",
    "#"
   ],
   "id": "c2c091c74638a300"
  },
  {
   "metadata": {},
   "cell_type": "code",
   "outputs": [],
   "execution_count": null,
   "source": [
    "# Load the orders data\n",
    "orders = pd.read_csv('data/orders.csv')\n",
    "\n",
    "# Take a look at the first few rows\n",
    "print(\"Sample orders data:\")\n",
    "orders.head()"
   ],
   "id": "e5137e1dff70ec3b"
  },
  {
   "metadata": {},
   "cell_type": "code",
   "outputs": [],
   "execution_count": null,
   "source": [
    "# Basic information about the dataset\n",
    "print(\"Dataset info:\")\n",
    "orders.info()\n",
    "\n",
    "print(\"\\nSummary statistics:\")\n",
    "orders.describe()"
   ],
   "id": "a8f1ae7b5ebf2086"
  },
  {
   "metadata": {},
   "cell_type": "markdown",
   "source": [
    "## Data Preprocessing\n",
    "\n",
    "Let's clean and prepare our data for analysis.\n",
    "\n",
    "#"
   ],
   "id": "88adfe2321b582d1"
  },
  {
   "metadata": {},
   "cell_type": "code",
   "outputs": [],
   "execution_count": null,
   "source": [
    "# Check for missing values\n",
    "print(\"Missing values per column:\")\n",
    "orders.isnull().sum()\n",
    "\n",
    "#"
   ],
   "id": "7d7ff4cb25b0f6b5"
  },
  {
   "metadata": {},
   "cell_type": "code",
   "outputs": [],
   "execution_count": null,
   "source": [
    "# Convert date columns to datetime\n",
    "orders['order_date'] = pd.to_datetime(orders['order_date'])\n",
    "orders['delivery_date'] = pd.to_datetime(orders['delivery_date'])\n",
    "\n",
    "# Extract useful date features\n",
    "orders['order_month'] = orders['order_date'].dt.month\n",
    "orders['order_day'] = orders['order_date'].dt.day\n",
    "orders['order_year'] = orders['order_date'].dt.year\n",
    "orders['order_dayofweek'] = orders['order_date'].dt.dayofweek\n",
    "\n",
    "# Calculate delivery time\n",
    "orders['delivery_time'] = (orders['delivery_date'] - orders['order_date']).dt.days\n",
    "\n",
    "orders."
   ],
   "id": "59f7519d2b687fc6"
  },
  {
   "metadata": {},
   "cell_type": "markdown",
   "source": [
    "## Order Trends Analysis\n",
    "\n",
    "Let's analyze how orders have changed over"
   ],
   "id": "526ac3f2ed035564"
  },
  {
   "metadata": {},
   "cell_type": "code",
   "outputs": [],
   "execution_count": null,
   "source": [
    "# Monthly order trends\n",
    "monthly_orders = orders.groupby(['order_year', 'order_month']).agg({\n",
    "    'order_id': 'count',\n",
    "    'total_amount': 'sum'\n",
    "}).reset_index()\n",
    "\n",
    "monthly_orders['year_month'] = monthly_orders['order_year'].astype(str) + '-' + monthly_orders['order_month'].astype(str).str.zfill(2)\n",
    "monthly_orders = monthly_orders.sort_values('year_month')\n",
    "\n",
    "plt.figure(figsize=(12, 6))\n",
    "ax1 = plt.subplot()\n",
    "ax1.plot(monthly_orders['year_month'], monthly_orders['order_id'], marker='o', color='blue', label='Number of Orders')\n",
    "ax1.set_xlabel('Month')\n",
    "ax1.set_ylabel('Number of Orders', color='blue')\n",
    "ax1.tick_params(axis='y', labelcolor='blue')\n",
    "plt.xticks(rotation=45)\n",
    "\n",
    "ax2 = ax1.twinx()\n",
    "ax2.plot(monthly_orders['year_month'], monthly_orders['total_amount'], marker='s', color='red', label='Revenue')\n",
    "ax2.set_ylabel('Revenue ($)', color='red')\n",
    "ax2.tick_params(axis='y', labelcolor='red')\n",
    "\n",
    "plt.title('Monthly Order Trends')\n",
    "plt.tight_layout()"
   ],
   "id": "c8e3e0797d1f8e97"
  },
  {
   "metadata": {},
   "cell_type": "code",
   "outputs": [],
   "execution_count": null,
   "source": [
    "# Day of week distribution\n",
    "day_names = ['Monday', 'Tuesday', 'Wednesday', 'Thursday', 'Friday', 'Saturday', 'Sunday']\n",
    "day_counts = orders['order_dayofweek'].value_counts().sort_index()\n",
    "\n",
    "plt.figure(figsize=(10, 5))\n",
    "sns.barplot(x=[day_names[i] for i in day_counts.index], y=day_counts.values)\n",
    "plt.title('Orders by Day of Week')\n",
    "plt.xlabel('Day of Week')\n",
    "plt"
   ],
   "id": "b15112e657efee04"
  }
 ],
 "metadata": {
  "kernelspec": {
   "display_name": "Python 3",
   "language": "python",
   "name": "python3"
  },
  "language_info": {
   "codemirror_mode": {
    "name": "ipython",
    "version": 2
   },
   "file_extension": ".py",
   "mimetype": "text/x-python",
   "name": "python",
   "nbconvert_exporter": "python",
   "pygments_lexer": "ipython2",
   "version": "2.7.6"
  }
 },
 "nbformat": 4,
 "nbformat_minor": 5
}
